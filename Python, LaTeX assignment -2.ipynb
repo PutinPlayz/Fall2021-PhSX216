{
 "cells": [
  {
   "cell_type": "code",
   "execution_count": 12,
   "id": "b9c92576",
   "metadata": {},
   "outputs": [
    {
     "name": "stdout",
     "output_type": "stream",
     "text": [
      "df = 0.049\n",
      "errdf = 0.004900000000000001\n"
     ]
    }
   ],
   "source": [
    "#Rule 1\n",
    "import numpy as np\n",
    "\n",
    "def rule1(c, da):\n",
    "    dQ = c*da\n",
    "    return dQ\n",
    "d1 = 0.005\n",
    "c = 9.8\n",
    "errd1 = 0.0005\n",
    "df = c*d1\n",
    "errdf = rule1(c,errd1)\n",
    "\n",
    "print(\"df =\", df)\n",
    "print(\"errdf =\", errdf)"
   ]
  },
  {
   "cell_type": "code",
   "execution_count": 13,
   "id": "a37657f5",
   "metadata": {},
   "outputs": [
    {
     "name": "stdout",
     "output_type": "stream",
     "text": [
      "q =  5\n",
      "errq = 0.08333333333333333\n"
     ]
    }
   ],
   "source": [
    "#Rule 2\n",
    "import numpy as np\n",
    "\n",
    "def rule2(dA, A, Q, m):\n",
    "    dQ = Q*(m*(dA/A))\n",
    "    return dQ\n",
    "a = 0.06\n",
    "da = 0.0005\n",
    "M = 2\n",
    "q = 5\n",
    "errq = rule2(da, a, M, q)\n",
    "\n",
    "print(\"q = \", q)\n",
    "print(\"errq =\", errq)\n",
    "\n"
   ]
  },
  {
   "cell_type": "code",
   "execution_count": 9,
   "id": "96aa3132",
   "metadata": {},
   "outputs": [
    {
     "name": "stdout",
     "output_type": "stream",
     "text": [
      "dtotal = 1.3\n",
      "errdtotal = 0.0007071067811865475\n"
     ]
    }
   ],
   "source": [
    "#Rule 3\n",
    "import numpy as np\n",
    "\n",
    "def rule3(da, db):\n",
    "    dQ = np.sqrt(da**2+db**2)\n",
    "    return dQ\n",
    "\n",
    "d1 = 1.0\n",
    "d2 = 0.3\n",
    "errd1 = 0.0005\n",
    "errd2 = 0.0005\n",
    "dtotal = d1 + d2\n",
    "errdtotal = rule3(errd1, errd2)\n",
    "print(\"dtotal =\", dtotal)\n",
    "print(\"errdtotal =\", errdtotal)"
   ]
  },
  {
   "cell_type": "code",
   "execution_count": 26,
   "id": "00870b95",
   "metadata": {},
   "outputs": [
    {
     "name": "stdout",
     "output_type": "stream",
     "text": [
      "vi =  3.494632897874839\n",
      "errvi =  0.012368916903657408\n",
      "There was a slight error in our human calculations of vi, the number we calculated was 3.509 \n"
     ]
    }
   ],
   "source": [
    "#Rule 4\n",
    "import numpy as np\n",
    "\n",
    "def rule4(A, dA, m, B, dB, n, Q):\n",
    "    \n",
    "    dQ = Q*np.sqrt((m*(dA/A))**2+((n*(dB/B))**2))\n",
    "    \n",
    "    return dQ\n",
    "\n",
    "y = .99\n",
    "xavg = 1.57\n",
    "erry = 0.0005\n",
    "errx = .0055\n",
    "g = 9.81\n",
    "m = 1\n",
    "n = 1\n",
    "\n",
    "vi = xavg*np.sqrt(g/(2*y))\n",
    "errvi = rule4(y, erry, m, xavg, errx, n, vi)\n",
    "\n",
    "print(\"vi = \", vi)\n",
    "print(\"errvi = \", errvi)\n",
    "print(\"There was a slight error in our human calculations of vi, the number we calculated was 3.509 \")"
   ]
  },
  {
   "cell_type": "code",
   "execution_count": 4,
   "id": "9a826417",
   "metadata": {
    "scrolled": true
   },
   "outputs": [
    {
     "name": "stdout",
     "output_type": "stream",
     "text": [
      "The mean of the data set is:  1.1166666666666667\n",
      "The error in the mean is:  0.073282810879294\n"
     ]
    }
   ],
   "source": [
    "#Mean Average and Error\n",
    "import numpy as np\n",
    "x = np.array([ 1.1, 1.3, 1.4, 0.9, 0.95, 1.05])\n",
    "xmean = np.average(x)\n",
    "xstdev = np.std(x)\n",
    "n = x.size\n",
    "errxmean = xstdev/np.sqrt(n)\n",
    "\n",
    "print (\"The mean of the data set is: \", xmean)\n",
    "print (\"The error in the mean is: \", errxmean)\n",
    "\n",
    "\n",
    "\n"
   ]
  },
  {
   "cell_type": "code",
   "execution_count": 5,
   "id": "18a2892d",
   "metadata": {},
   "outputs": [],
   "source": [
    "#LaTeX notation of Rule 3 and sigma v. "
   ]
  },
  {
   "cell_type": "markdown",
   "id": "7d1c7bea",
   "metadata": {},
   "source": [
    "$\\delta Q = \\sqrt{(\\delta A)^2 + (\\delta B)^2}$\n",
    "\n",
    "\n",
    "$\\delta v_i = v_i\\sqrt{(\\frac{\\delta x}{x})^2 + (\\frac{\\delta y}{y})^2}$"
   ]
  }
 ],
 "metadata": {
  "kernelspec": {
   "display_name": "Python 3",
   "language": "python",
   "name": "python3"
  },
  "language_info": {
   "codemirror_mode": {
    "name": "ipython",
    "version": 3
   },
   "file_extension": ".py",
   "mimetype": "text/x-python",
   "name": "python",
   "nbconvert_exporter": "python",
   "pygments_lexer": "ipython3",
   "version": "3.8.8"
  }
 },
 "nbformat": 4,
 "nbformat_minor": 5
}
